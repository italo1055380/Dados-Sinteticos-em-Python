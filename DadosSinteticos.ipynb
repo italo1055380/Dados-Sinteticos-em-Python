{
  "nbformat": 4,
  "nbformat_minor": 0,
  "metadata": {
    "colab": {
      "provenance": [],
      "toc_visible": true,
      "authorship_tag": "ABX9TyN9pI6TwkDLD+u7DY8tbglw",
      "include_colab_link": true
    },
    "kernelspec": {
      "name": "python3",
      "display_name": "Python 3"
    },
    "language_info": {
      "name": "python"
    }
  },
  "cells": [
    {
      "cell_type": "markdown",
      "metadata": {
        "id": "view-in-github",
        "colab_type": "text"
      },
      "source": [
        "<a href=\"https://colab.research.google.com/github/italo1055380/Dados-Sinteticos-em-Python/blob/main/DadosSinteticos.ipynb\" target=\"_parent\"><img src=\"https://colab.research.google.com/assets/colab-badge.svg\" alt=\"Open In Colab\"/></a>"
      ]
    },
    {
      "cell_type": "code",
      "execution_count": null,
      "metadata": {
        "id": "g3VShfWUyLl1"
      },
      "outputs": [],
      "source": []
    },
    {
      "cell_type": "markdown",
      "source": [
        "# Verificar a versão do pacote"
      ],
      "metadata": {
        "id": "Gsuj_X4KyNDP"
      }
    },
    {
      "cell_type": "code",
      "source": [
        "# checando a versão do pacote xgboost\n",
        "import xgboost\n",
        "print(xgboost.__version__)"
      ],
      "metadata": {
        "colab": {
          "base_uri": "https://localhost:8080/"
        },
        "id": "wQf4GMF_yYmT",
        "outputId": "af84268b-b33f-441a-94c7-d632201ad2e4"
      },
      "execution_count": 1,
      "outputs": [
        {
          "output_type": "stream",
          "name": "stdout",
          "text": [
            "0.90\n"
          ]
        }
      ]
    },
    {
      "cell_type": "markdown",
      "source": [
        "# Importando Pacotes e Funções"
      ],
      "metadata": {
        "id": "MNE6sEasyxsC"
      }
    },
    {
      "cell_type": "code",
      "source": [
        "###########################################\n",
        "# Importando Pacotes e Funções necessárias\n",
        "########################################### \n",
        "\n",
        "# Pacote de Computação Matemática\n",
        "from numpy import mean\n",
        "from numpy import std\n",
        "\n",
        "# Importando a função da Criação de Dados sintéticos\n",
        "from sklearn.datasets import make_classification\n",
        "\n",
        "# Importando a função de validação cruzada\n",
        "from sklearn.model_selection import RepeatedStratifiedKFold\n",
        "\n",
        "# Importando a função de Treinamento e Teste da MP com Validação Cruzada\n",
        "from sklearn.model_selection import cross_val_score\n",
        "\n",
        "# Importando o Algoritmo\n",
        "from xgboost import XGBClassifier\n",
        "\n",
        "# Importando a Função para criar registro sintético para avaliar a MP\n",
        "from numpy import asarray"
      ],
      "metadata": {
        "id": "t20R3PRtzDJX"
      },
      "execution_count": 3,
      "outputs": []
    },
    {
      "cell_type": "markdown",
      "source": [
        "# Criando dados fictícios para treinar Algoritmo"
      ],
      "metadata": {
        "id": "RbKBSS1W2bgW"
      }
    },
    {
      "cell_type": "code",
      "source": [
        "# dataset de Classificação binária\n",
        "X, y = make_classification(n_samples=1000, n_features=20, n_informative=15, n_redundant=5, random_state=7)\n",
        "# Verificando as dimesões dos dados\n",
        "print(X.shape, y.shape)"
      ],
      "metadata": {
        "colab": {
          "base_uri": "https://localhost:8080/"
        },
        "id": "qCuxLjQD6bnz",
        "outputId": "df035ce4-5db9-44a9-e9b6-df7e560dcf4f"
      },
      "execution_count": 5,
      "outputs": [
        {
          "output_type": "stream",
          "name": "stdout",
          "text": [
            "(1000, 20) (1000,)\n"
          ]
        }
      ]
    },
    {
      "cell_type": "markdown",
      "source": [
        "https://scikit-learn.org/stable/modules/generated/sklearn.datasets.make_classification.html"
      ],
      "metadata": {
        "id": "WCjFlTiU9qD5"
      }
    },
    {
      "cell_type": "markdown",
      "source": [
        "# Usando os dados para fazer o Treinamento e Avaliação Algoritmo"
      ],
      "metadata": {
        "id": "hDO-57Ur7e8c"
      }
    }
  ]
}